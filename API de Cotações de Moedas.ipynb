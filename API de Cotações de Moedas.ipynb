{
 "cells": [
  {
   "cell_type": "markdown",
   "metadata": {},
   "source": [
    "### API para cotação de moedas"
   ]
  },
  {
   "cell_type": "code",
   "execution_count": 3,
   "metadata": {},
   "outputs": [
    {
     "name": "stdout",
     "output_type": "stream",
     "text": [
      "{'USDBRL': {'code': 'USD', 'codein': 'BRL', 'name': 'Dólar Americano/Real Brasileiro', 'high': '5.254', 'low': '5.2537', 'varBid': '0.0015', 'pctChange': '0.03', 'bid': '5.2536', 'ask': '5.2543', 'timestamp': '1628804405', 'create_date': '2021-08-12 18:40:06'}, 'EURBRL': {'code': 'EUR', 'codein': 'BRL', 'name': 'Euro/Real Brasileiro', 'high': '6.1656', 'low': '6.1607', 'varBid': '0.0034', 'pctChange': '0.06', 'bid': '6.1635', 'ask': '6.1664', 'timestamp': '1628806062', 'create_date': '2021-08-12 19:07:44'}, 'BTCBRL': {'code': 'BTC', 'codein': 'BRL', 'name': 'Bitcoin/Real Brasileiro', 'high': '243.045', 'low': '230.382', 'varBid': '-8500', 'pctChange': '-3.49', 'bid': '234.629', 'ask': '235.045', 'timestamp': '1628806068', 'create_date': '2021-08-12 19:07:48'}}\n"
     ]
    }
   ],
   "source": [
    "import requests\n",
    "import json\n",
    "\n",
    "cotacoes = requests.get(\" https://economia.awesomeapi.com.br/last/USD-BRL,EUR-BRL,BTC-BRL\")\n",
    "cotacoes = cotacoes.json()\n",
    "print(cotacoes)"
   ]
  },
  {
   "cell_type": "markdown",
   "metadata": {},
   "source": [
    "*Encontrando a cotação do bitcoin*"
   ]
  },
  {
   "cell_type": "code",
   "execution_count": 60,
   "metadata": {},
   "outputs": [
    {
     "name": "stdout",
     "output_type": "stream",
     "text": [
      "234.629\n"
     ]
    }
   ],
   "source": [
    "cotacao_BTCBRL = cotacoes['BTCBRL'][\"bid\"]\n",
    "print(cotacao_BTCBRL)"
   ]
  }
 ],
 "metadata": {
  "kernelspec": {
   "display_name": "Python 3",
   "language": "python",
   "name": "python3"
  },
  "language_info": {
   "codemirror_mode": {
    "name": "ipython",
    "version": 3
   },
   "file_extension": ".py",
   "mimetype": "text/x-python",
   "name": "python",
   "nbconvert_exporter": "python",
   "pygments_lexer": "ipython3",
   "version": "3.8.5"
  }
 },
 "nbformat": 4,
 "nbformat_minor": 4
}
